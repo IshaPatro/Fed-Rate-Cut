{
 "cells": [
  {
   "cell_type": "markdown",
   "metadata": {},
   "source": [
    "# Importing Libraries"
   ]
  },
  {
   "cell_type": "code",
   "execution_count": null,
   "metadata": {},
   "outputs": [],
   "source": [
    "%pip install pandas\n",
    "%pip install scikit-learn\n",
    "%pip install statsmodels\n",
    "%pip install matplotlib\n",
    "%pip install pmdarima\n",
    "%pip install numpy\n",
    "%pip install seaborn"
   ]
  },
  {
   "cell_type": "code",
   "execution_count": null,
   "metadata": {
    "id": "JWYq22_0JgHx"
   },
   "outputs": [],
   "source": [
    "import pandas as pd\n",
    "import numpy as np\n",
    "from sklearn.metrics import mean_squared_error\n",
    "import matplotlib.pyplot as plt\n",
    "import datetime\n",
    "import pandas as pd\n",
    "from sklearn.ensemble import RandomForestRegressor\n",
    "from sklearn.model_selection import train_test_split\n",
    "import random\n",
    "import warnings\n",
    "from sklearn.metrics import mean_squared_error, r2_score\n",
    "from sklearn.ensemble import RandomForestRegressor\n",
    "from sklearn.metrics import mean_squared_error, r2_score\n",
    "from sklearn.preprocessing import StandardScaler\n",
    "import seaborn as sns"
   ]
  },
  {
   "cell_type": "code",
   "execution_count": null,
   "metadata": {},
   "outputs": [],
   "source": [
    "warnings.filterwarnings(\n",
    "    \"ignore\",\n",
    "    message=\"X does not have valid feature names, but RandomForestRegressor was fitted with feature names\"\n",
    ")"
   ]
  },
  {
   "cell_type": "code",
   "execution_count": null,
   "metadata": {
    "id": "6yCtiLYSJl4d"
   },
   "outputs": [],
   "source": [
    "treasury_data = pd.read_csv('10YrTsy.csv')\n",
    "nasdaq_data = pd.read_csv('NasdaqData.csv')\n",
    "gdp_data = pd.read_csv('GDP.csv')\n",
    "inflation_data = pd.read_csv('Inflation.csv')\n",
    "unemployment_data = pd.read_csv('Unemployment.csv')\n",
    "fed_rates_data = pd.read_csv('FedRates.csv')  "
   ]
  },
  {
   "cell_type": "code",
   "execution_count": null,
   "metadata": {},
   "outputs": [],
   "source": [
    "nasdaq_data"
   ]
  },
  {
   "cell_type": "code",
   "execution_count": null,
   "metadata": {},
   "outputs": [],
   "source": [
    "treasury_data.rename(columns = {'DGS10':'10YrTsy'}, inplace = True)\n",
    "nasdaq_data.rename(columns = {'Close':'NASDAQ Composite'}, inplace = True)\n",
    "unemployment_data.rename(columns = {'UNRATE':'UnemploymentRate'}, inplace = True)\n",
    "inflation_data.rename(columns = {'FPCPITOTLZGUSA':'Inflation'}, inplace = True)\n",
    "gdp_data.rename(columns = {'GDPC1':'GDP'}, inplace = True)\n",
    "fed_rates_data.rename(columns = {'DFF':'FFR'}, inplace = True)"
   ]
  },
  {
   "cell_type": "code",
   "execution_count": null,
   "metadata": {},
   "outputs": [],
   "source": [
    "data = pd.merge(treasury_data, nasdaq_data, on='DATE', how='right')\n",
    "data = pd.merge(data, gdp_data, on='DATE', how='left')\n",
    "data = pd.merge(data, inflation_data, on='DATE', how='left')\n",
    "data = pd.merge(data, unemployment_data, on='DATE', how='left')\n",
    "data = pd.merge(data, fed_rates_data, on='DATE', how='left')\n",
    "data = data.sort_values(by='DATE')\n",
    "data"
   ]
  },
  {
   "cell_type": "code",
   "execution_count": null,
   "metadata": {},
   "outputs": [],
   "source": [
    "data['DATE'] = pd.to_datetime(data['DATE'], format='%Y-%m-%d')\n",
    "data = data[data['DATE'] >= pd.to_datetime('1986-01-01')]\n",
    "data.iloc[0,1] = 7.3\n",
    "data"
   ]
  },
  {
   "cell_type": "code",
   "execution_count": null,
   "metadata": {},
   "outputs": [],
   "source": [
    "print(\"Number of NaNs in each column:\")\n",
    "print(data.isnull().sum())"
   ]
  },
  {
   "cell_type": "markdown",
   "metadata": {},
   "source": [
    "# Data Cleaning"
   ]
  },
  {
   "cell_type": "code",
   "execution_count": null,
   "metadata": {},
   "outputs": [],
   "source": [
    "data.isnull().sum()"
   ]
  },
  {
   "cell_type": "code",
   "execution_count": null,
   "metadata": {},
   "outputs": [],
   "source": [
    "data['10YrTsy'] = data['10YrTsy'].replace('.', np.nan).astype(float)\n",
    "data = data.ffill()\n",
    "data.dropna(inplace=True)\n",
    "data.isnull().sum()"
   ]
  },
  {
   "cell_type": "code",
   "execution_count": null,
   "metadata": {},
   "outputs": [],
   "source": [
    "data"
   ]
  },
  {
   "cell_type": "code",
   "execution_count": null,
   "metadata": {},
   "outputs": [],
   "source": [
    "new_row = {\n",
    "    'DATE': pd.to_datetime('2024-09-19'),\n",
    "    '10YrTsy': 3.73,\n",
    "    'NASDAQ Composite': 20000,\n",
    "    'GDP': 22924.863,\n",
    "    'Inflation': 4.116338,\n",
    "    'UnemploymentRate': 4.1,\n",
    "    'FFR': 4.83\n",
    "}\n",
    "\n",
    "data = pd.concat([data, pd.DataFrame([new_row])], ignore_index=True)\n",
    "data"
   ]
  },
  {
   "cell_type": "code",
   "execution_count": null,
   "metadata": {},
   "outputs": [],
   "source": [
    "data.loc['1986-01-01','10YrTsy'] = 7.3\n",
    "data['DATE'] = pd.to_datetime(data['DATE'], format='%Y-%m-%d')\n",
    "data = data[data['DATE'] >= pd.to_datetime('1986-01-01')]\n",
    "data"
   ]
  },
  {
   "cell_type": "code",
   "execution_count": null,
   "metadata": {},
   "outputs": [],
   "source": [
    "fig, ax1 = plt.subplots(figsize=(30, 15))\n",
    "ax1.set_facecolor('black')\n",
    "ax2 = ax1.twinx()\n",
    "ax2.set_facecolor('black')\n",
    "\n",
    "ax1.plot(data.index, data['NASDAQ Composite'], label='NASDAQ Composite', color='b')\n",
    "ax1.plot(data.index, data['GDP'], label='GDP', color='r')\n",
    "ax1.set_xlabel('Date', fontsize=20)\n",
    "ax1.set_ylabel('Economic Indicators', fontsize=20)\n",
    "\n",
    "ax2.plot(data.index, data['FFR'], label='FFR', color='orange', linestyle='--')\n",
    "ax2.plot(data.index, data['UnemploymentRate'], label='Unemployment Rate', color='m')\n",
    "ax2.plot(data.index, data['Inflation'], label='Inflation', color='c')\n",
    "ax2.plot(data.index, data['10YrTsy'], label='10YrTsy', color='g')\n",
    "ax2.set_ylabel('Economic Indicators', fontsize=20)\n",
    "\n",
    "ax1.tick_params(axis='x', colors='white', labelsize=18)\n",
    "ax1.tick_params(axis='y', colors='white', labelsize=18)\n",
    "ax2.tick_params(axis='y', colors='white', labelsize=18)\n",
    "\n",
    "ax1.legend(loc='upper left', fontsize=18)\n",
    "ax2.legend(loc='upper right', fontsize=18)\n",
    "\n",
    "plt.title('Economic Indicators', fontsize=25, color='white')\n",
    "plt.xticks(rotation=45, color='white')\n",
    "plt.gcf().set_facecolor('black')\n",
    "\n",
    "plt.tight_layout()\n",
    "\n",
    "# Display the plot\n",
    "plt.show()\n"
   ]
  },
  {
   "cell_type": "markdown",
   "metadata": {},
   "source": [
    "# Train Data"
   ]
  },
  {
   "cell_type": "code",
   "execution_count": null,
   "metadata": {},
   "outputs": [],
   "source": [
    "data['DATE'] = pd.to_datetime(data['DATE'])\n",
    "data.set_index('DATE', inplace=True)\n",
    "data = data[~data.index.duplicated(keep='first')]\n",
    "data"
   ]
  },
  {
   "cell_type": "markdown",
   "metadata": {},
   "source": [
    "### Train NASDAQ Data"
   ]
  },
  {
   "cell_type": "code",
   "execution_count": null,
   "metadata": {},
   "outputs": [],
   "source": [
    "nasdaq_data = data\n",
    "nasdaq_data.head(5)"
   ]
  },
  {
   "cell_type": "code",
   "execution_count": null,
   "metadata": {},
   "outputs": [],
   "source": [
    "nasdaq_data['Volatility5'] = nasdaq_data['NASDAQ Composite'].rolling(window=5).std()\n",
    "nasdaq_data['Momentum'] = nasdaq_data['NASDAQ Composite'] - nasdaq_data['NASDAQ Composite'].shift(5)\n",
    "nasdaq_data['Returns'] = nasdaq_data['NASDAQ Composite'].pct_change()\n",
    "nasdaq_data.dropna(inplace=True)\n",
    "\n",
    "corr_matrix = X_train.corr()\n",
    "plt.figure(figsize=(10, 8))\n",
    "sns.heatmap(corr_matrix, annot=True, cmap='coolwarm', fmt=\".2f\", linewidths=0.5)\n",
    "plt.title(\"Correlation Heatmap of Features\")\n",
    "plt.xticks(rotation=45)\n",
    "plt.yticks(rotation=0)\n",
    "plt.show()"
   ]
  },
  {
   "cell_type": "code",
   "execution_count": 214,
   "metadata": {},
   "outputs": [
    {
     "data": {
      "image/png": "[encoded data removed]",
      "text/plain": [
       "<Figure size 1000x600 with 1 Axes>"
      ]
     },
     "metadata": {},
     "output_type": "display_data"
    }
   ],
   "source": [
    "X = nasdaq_data[['10YrTsy','NASDAQ Composite','GDP','Inflation','UnemploymentRate', 'Volatility5', 'Momentum', 'Returns', 'FFR']]\n",
    "y = nasdaq_data['NASDAQ Composite']\n",
    "train_size = int(len(nasdaq_data) * 0.8)\n",
    "X_train, X_test = X[:train_size], X[train_size:]\n",
    "y_train, y_test = y[:train_size], y[train_size:]\n",
    "y_test = y_test.reset_index()\n",
    "\n",
    "scaler = StandardScaler()\n",
    "X_train_scaled = scaler.fit_transform(X_train)\n",
    "X_test_scaled = scaler.transform(X_test)\n",
    "\n",
    "rf_model_fed = RandomForestRegressor(\n",
    "    n_estimators=1000,  \n",
    "    max_depth=15,\n",
    "    min_samples_split=5,  \n",
    "    min_samples_leaf=2,  \n",
    "    random_state=42\n",
    ")\n",
    "rf_model_fed.fit(X_train_scaled, y_train)\n",
    "y_pred = rf_model_fed.predict(X_test_scaled)\n",
    "\n",
    "plt.figure(figsize=(10, 6))\n",
    "plt.plot(y_test['DATE'], y_test['NASDAQ Composite'], label='Actual NASDAQ Composite', linestyle='-', color='blue')\n",
    "plt.plot(y_test['DATE'], y_pred, label='Predicted NASDAQ Composite', linestyle='--', color='red')\n",
    "plt.title('Actual vs Predicted NASDAQ Composite')\n",
    "plt.xlabel('Date')\n",
    "plt.ylabel('NASDAQ Composite')\n",
    "plt.legend()\n",
    "plt.xticks(rotation=45)\n",
    "plt.grid(True)\n",
    "plt.show()"
   ]
  },
  {
   "cell_type": "code",
   "execution_count": null,
   "metadata": {},
   "outputs": [],
   "source": [
    "mse_rf = mean_squared_error(y_test['NASDAQ Composite'], y_pred)\n",
    "rmse_rf = np.sqrt(mse_rf)\n",
    "r2_rf = r2_score(y_test['NASDAQ Composite'], y_pred)\n",
    "\n",
    "print(f\"Mean Squared Error (MSE): {mse_rf}\")\n",
    "print(f\"Root Mean Squared Error (RMSE): {rmse_rf}\")\n",
    "print(f\"R-squared (R2 Score): {r2_rf}\")"
   ]
  },
  {
   "cell_type": "code",
   "execution_count": null,
   "metadata": {},
   "outputs": [],
   "source": [
    "rf_model_fed = RandomForestRegressor(\n",
    "    n_estimators=1000,  \n",
    "    max_depth=None,      \n",
    "    min_samples_split=5, \n",
    "    min_samples_leaf=2,\n",
    "    random_state=42\n",
    ")\n",
    "rf_model_fed.fit(X_train, y_train)\n",
    "y_pred = rf_model_fed.predict(X_test)\n",
    "\n",
    "mse = mean_squared_error(y_test, y_pred)\n",
    "rmse = np.sqrt(mse)\n",
    "r2 = r2_score(y_test, y_pred)\n",
    "\n",
    "# Compare actual vs predicted using a graph\n",
    "plt.figure(figsize=(10, 6))\n",
    "plt.plot(y_test.values, label='Actual NASDAQ Composite', marker='o')\n",
    "plt.plot(y_pred, label='Predicted NASDAQ Composite', marker='x')\n",
    "plt.title('Actual vs Predicted NASDAQ Composite')\n",
    "plt.xlabel('Data Points')\n",
    "plt.ylabel('NASDAQ Composite')\n",
    "plt.legend()\n",
    "plt.grid(True)\n",
    "plt.show()\n",
    "\n",
    "# Display metrics\n",
    "print(f\"Mean Squared Error (MSE): {mse}\")\n",
    "print(f\"Root Mean Squared Error (RMSE): {rmse}\")\n",
    "print(f\"R-squared (R2 Score): {r2}\")"
   ]
  },
  {
   "cell_type": "code",
   "execution_count": null,
   "metadata": {},
   "outputs": [],
   "source": [
    "last_row = X_test.iloc[-1].values.reshape(1, -1)\n",
    "predictions_rf_fed = []\n",
    "\n",
    "for _ in range(60):\n",
    "    next_pred = rf_model_fed.predict(last_row)\n",
    "    fluctuation = next_pred[0] + random.uniform(-50, 100)  \n",
    "    predictions_rf_fed.append(fluctuation)\n",
    "    last_row = np.array([last_row[0][1], last_row[0][2], last_row[0][3], fluctuation, last_row[0][4]]).reshape(1, -1)\n",
    "for _ in range(60,120):\n",
    "    next_pred = rf_model_fed.predict(last_row)\n",
    "    fluctuation = next_pred[0] + random.uniform(-100, 200)  \n",
    "    predictions_rf_fed.append(fluctuation)\n",
    "    last_row = np.array([last_row[0][1], last_row[0][2], last_row[0][3], fluctuation, last_row[0][4]]).reshape(1, -1)\n",
    "for _ in range(120,180):\n",
    "    next_pred = rf_model_fed.predict(last_row)\n",
    "    fluctuation = next_pred[0] + random.uniform(-50, 300)  \n",
    "    predictions_rf_fed.append(fluctuation)\n",
    "    last_row = np.array([last_row[0][1], last_row[0][2], last_row[0][3], fluctuation, last_row[0][4]]).reshape(1, -1)\n",
    "\n",
    "last_nasdaq_value = nasdaq_data['NASDAQ Composite'].iloc[-1]\n",
    "nasdaq_predictions = [pred * (last_nasdaq_value / 5464.08) for pred in predictions_rf_fed]"
   ]
  },
  {
   "cell_type": "code",
   "execution_count": null,
   "metadata": {},
   "outputs": [],
   "source": [
    "plt.figure(figsize=(10,6))\n",
    "plt.plot(nasdaq_data['NASDAQ Composite'], label='Original Data')\n",
    "plt.plot(pd.date_range(start=nasdaq_data.index[-1], periods=181, freq='D')[1:], nasdaq_predictions, label='Predicted Data', color='green')\n",
    "plt.title('Predicted Data')\n",
    "plt.legend()\n",
    "plt.show()"
   ]
  },
  {
   "cell_type": "code",
   "execution_count": null,
   "metadata": {},
   "outputs": [],
   "source": [
    "plt.figure(figsize=(10,6))\n",
    "#plt.plot(nasdaq_data['NASDAQ Composite'], label='Original Data')\n",
    "plt.plot(pd.date_range(start=nasdaq_data.index[-1], periods=181, freq='D')[1:], nasdaq_predictions, label='Predicted Data', color='green')\n",
    "plt.title('Predicted Data')\n",
    "plt.legend()\n",
    "plt.show()"
   ]
  }
 ],
 "metadata": {
  "colab": {
   "provenance": []
  },
  "kernelspec": {
   "display_name": "Python (FedRateCut)",
   "language": "python",
   "name": "myenv"
  },
  "language_info": {
   "codemirror_mode": {
    "name": "ipython",
    "version": 3
   },
   "file_extension": ".py",
   "mimetype": "text/x-python",
   "name": "python",
   "nbconvert_exporter": "python",
   "pygments_lexer": "ipython3",
   "version": "3.12.6"
  }
 },
 "nbformat": 4,
 "nbformat_minor": 4
}
